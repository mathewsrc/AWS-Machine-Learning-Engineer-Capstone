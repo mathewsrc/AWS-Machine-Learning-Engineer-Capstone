{
 "cells": [
  {
   "cell_type": "markdown",
   "metadata": {},
   "source": [
    "sklearn_preprocessor.fit({'train': train_path}, logs=False) \n",
    "\n",
    "1- call fit method of Scikit Pipeline\n",
    "\n",
    "transformer.transform(train_path, content_type=\"text/csv\",  logs=False) \n",
    "\n",
    "1 - pass s3 csv file\n",
    "\n",
    "2- call input_fn() that reads the csv file\n",
    "\n",
    "3 - call predict_fn() that uses Scikit transform() method to transform the csv data\n",
    "\n",
    "4- call output_fn that format the output and send it to s3 as .csv.out"
   ]
  },
  {
   "cell_type": "code",
   "execution_count": 2,
   "metadata": {
    "tags": []
   },
   "outputs": [
    {
     "name": "stdout",
     "output_type": "stream",
     "text": [
      "Requirement already satisfied: polars in /opt/conda/lib/python3.10/site-packages (0.16.18)\n",
      "Requirement already satisfied: typing_extensions>=4.0.1 in /opt/conda/lib/python3.10/site-packages (from polars) (4.3.0)\n",
      "\u001b[33mWARNING: Running pip as the 'root' user can result in broken permissions and conflicting behaviour with the system package manager. It is recommended to use a virtual environment instead: https://pip.pypa.io/warnings/venv\u001b[0m\u001b[33m\n",
      "\u001b[0m"
     ]
    }
   ],
   "source": [
    "!pip install polars"
   ]
  },
  {
   "cell_type": "code",
   "execution_count": 163,
   "metadata": {
    "tags": []
   },
   "outputs": [],
   "source": [
    "from sklearn.compose import ColumnTransformer\n",
    "from sklearn.pipeline import Pipeline\n",
    "from sklearn.impute import SimpleImputer\n",
    "from sklearn.preprocessing import OneHotEncoder, RobustScaler, Binarizer\n",
    "\n",
    "import os\n",
    "\n",
    "import csv\n",
    "import json\n",
    "import joblib\n",
    "import polars as pl\n",
    "import numpy as np\n",
    "from io import StringIO\n",
    "\n",
    "feature_columns_names = ['credit_score',\n",
    "                         'country',\n",
    "                         'gender',\n",
    "                         'age',\n",
    "                         'tenure',\n",
    "                         'balance',\n",
    "                         'products_number',\n",
    "                         'credit_card',\n",
    "                         'active_member',\n",
    "                         'estimated_salary'\n",
    "                        ]\n",
    "\n",
    "train_path = \"s3://sagemaker-us-east-1-484401254725/scikit-churn-prediction/datasets/train.csv\"\n",
    "\n",
    "input_data = pl.read_csv(train_path)"
   ]
  },
  {
   "cell_type": "markdown",
   "metadata": {},
   "source": [
    "Simulate Pipeline and save model "
   ]
  },
  {
   "cell_type": "code",
   "execution_count": 164,
   "metadata": {
    "tags": []
   },
   "outputs": [
    {
     "data": {
      "text/plain": [
       "['./model.joblib']"
      ]
     },
     "execution_count": 164,
     "metadata": {},
     "output_type": "execute_result"
    }
   ],
   "source": [
    "# Define numeric features and transformer\n",
    "numeric_features = (\n",
    "        input_data.select([pl.col(pl.Int64), pl.col(pl.Float64)])\n",
    "        .select(pl.all().exclude(\"churn\"))\n",
    "        .columns\n",
    ")\n",
    "    \n",
    "numeric_transformer = Pipeline(\n",
    "        steps=[\n",
    "            (\"imputer\", SimpleImputer(strategy=\"median\")),\n",
    "            (\"scaler\", RobustScaler()),\n",
    "        ]\n",
    ")\n",
    "    \n",
    "    # Define categorical features and transformer\n",
    "categorical_features = (\n",
    "        input_data.select(pl.col(pl.Utf8))\n",
    "        .select(pl.all().exclude(\"churn\"))\n",
    "        .columns\n",
    ")\n",
    "\n",
    "categorical_transformer = Pipeline(\n",
    "        steps=[\n",
    "            (\"imputer\", SimpleImputer(strategy=\"most_frequent\")),\n",
    "            (\"onehotencoder\", OneHotEncoder(handle_unknown=\"ignore\")),\n",
    "        ]\n",
    ")\n",
    "\n",
    "    # Combine transformers using ColumnTransformer\n",
    "preprocessor = ColumnTransformer(\n",
    "        transformers=[\n",
    "            (\"num\", numeric_transformer, numeric_features),\n",
    "            (\"cat\", categorical_transformer, categorical_features),\n",
    "        ]\n",
    ")\n",
    "    \n",
    "df_pandas = input_data.select(pl.all().exclude(\"churn\")).to_pandas()\n",
    "preprocessor.fit(df_pandas)\n",
    "\n",
    "joblib.dump(preprocessor, os.path.join('.', \"model.joblib\"))\n",
    "        "
   ]
  },
  {
   "cell_type": "code",
   "execution_count": 165,
   "metadata": {
    "tags": []
   },
   "outputs": [],
   "source": [
    "def input_fn(input_data, content_type=\"text/csv\"):\n",
    "    \"\"\"Parse input data payload\n",
    "    \"\"\"    \n",
    "    if content_type == 'text/csv':\n",
    "        df = pl.read_csv(input_data)\n",
    "        \n",
    "        # is input_data  what type?\n",
    "        if len(df.columns) == len(feature_columns_names) + 1:\n",
    "            # This is a labelled example, includes the ring label\n",
    "            df.columns = feature_columns_names + [\"churn\"]\n",
    "        elif len(df.columns) == len(feature_columns_names):\n",
    "            # This is an unlabelled example.\n",
    "            df.columns = feature_columns_names\n",
    "        return df.to_pandas()\n",
    "    else:\n",
    "        raise ValueError(\"{} not supported by script!\".format(content_type))"
   ]
  },
  {
   "cell_type": "markdown",
   "metadata": {},
   "source": [
    "Simulate labelled data"
   ]
  },
  {
   "cell_type": "code",
   "execution_count": 166,
   "metadata": {
    "tags": []
   },
   "outputs": [
    {
     "name": "stdout",
     "output_type": "stream",
     "text": [
      "Input shape:  (7200, 11)\n"
     ]
    },
    {
     "data": {
      "text/html": [
       "<div>\n",
       "<style scoped>\n",
       "    .dataframe tbody tr th:only-of-type {\n",
       "        vertical-align: middle;\n",
       "    }\n",
       "\n",
       "    .dataframe tbody tr th {\n",
       "        vertical-align: top;\n",
       "    }\n",
       "\n",
       "    .dataframe thead th {\n",
       "        text-align: right;\n",
       "    }\n",
       "</style>\n",
       "<table border=\"1\" class=\"dataframe\">\n",
       "  <thead>\n",
       "    <tr style=\"text-align: right;\">\n",
       "      <th></th>\n",
       "      <th>credit_score</th>\n",
       "      <th>country</th>\n",
       "      <th>gender</th>\n",
       "      <th>age</th>\n",
       "      <th>tenure</th>\n",
       "      <th>balance</th>\n",
       "      <th>products_number</th>\n",
       "      <th>credit_card</th>\n",
       "      <th>active_member</th>\n",
       "      <th>estimated_salary</th>\n",
       "      <th>churn</th>\n",
       "    </tr>\n",
       "  </thead>\n",
       "  <tbody>\n",
       "    <tr>\n",
       "      <th>0</th>\n",
       "      <td>538</td>\n",
       "      <td>Spain</td>\n",
       "      <td>Male</td>\n",
       "      <td>68</td>\n",
       "      <td>9</td>\n",
       "      <td>0.00</td>\n",
       "      <td>2</td>\n",
       "      <td>1</td>\n",
       "      <td>0</td>\n",
       "      <td>110440.50</td>\n",
       "      <td>1</td>\n",
       "    </tr>\n",
       "    <tr>\n",
       "      <th>1</th>\n",
       "      <td>809</td>\n",
       "      <td>France</td>\n",
       "      <td>Female</td>\n",
       "      <td>39</td>\n",
       "      <td>5</td>\n",
       "      <td>0.00</td>\n",
       "      <td>1</td>\n",
       "      <td>1</td>\n",
       "      <td>0</td>\n",
       "      <td>77705.75</td>\n",
       "      <td>0</td>\n",
       "    </tr>\n",
       "    <tr>\n",
       "      <th>2</th>\n",
       "      <td>620</td>\n",
       "      <td>France</td>\n",
       "      <td>Male</td>\n",
       "      <td>32</td>\n",
       "      <td>7</td>\n",
       "      <td>0.00</td>\n",
       "      <td>2</td>\n",
       "      <td>1</td>\n",
       "      <td>1</td>\n",
       "      <td>34665.79</td>\n",
       "      <td>0</td>\n",
       "    </tr>\n",
       "    <tr>\n",
       "      <th>3</th>\n",
       "      <td>679</td>\n",
       "      <td>Spain</td>\n",
       "      <td>Male</td>\n",
       "      <td>33</td>\n",
       "      <td>4</td>\n",
       "      <td>96110.22</td>\n",
       "      <td>1</td>\n",
       "      <td>1</td>\n",
       "      <td>0</td>\n",
       "      <td>1173.23</td>\n",
       "      <td>0</td>\n",
       "    </tr>\n",
       "    <tr>\n",
       "      <th>4</th>\n",
       "      <td>575</td>\n",
       "      <td>Spain</td>\n",
       "      <td>Male</td>\n",
       "      <td>30</td>\n",
       "      <td>2</td>\n",
       "      <td>0.00</td>\n",
       "      <td>2</td>\n",
       "      <td>1</td>\n",
       "      <td>1</td>\n",
       "      <td>82222.86</td>\n",
       "      <td>0</td>\n",
       "    </tr>\n",
       "  </tbody>\n",
       "</table>\n",
       "</div>"
      ],
      "text/plain": [
       "   credit_score country  gender  age  tenure   balance  products_number  \\\n",
       "0           538   Spain    Male   68       9      0.00                2   \n",
       "1           809  France  Female   39       5      0.00                1   \n",
       "2           620  France    Male   32       7      0.00                2   \n",
       "3           679   Spain    Male   33       4  96110.22                1   \n",
       "4           575   Spain    Male   30       2      0.00                2   \n",
       "\n",
       "   credit_card  active_member  estimated_salary  churn  \n",
       "0            1              0         110440.50      1  \n",
       "1            1              0          77705.75      0  \n",
       "2            1              1          34665.79      0  \n",
       "3            1              0           1173.23      0  \n",
       "4            1              1          82222.86      0  "
      ]
     },
     "execution_count": 166,
     "metadata": {},
     "output_type": "execute_result"
    }
   ],
   "source": [
    "input_data = input_fn(train_path, content_type=\"text/csv\")\n",
    "print(\"Input shape: \", input_data.shape)\n",
    "input_data.head()"
   ]
  },
  {
   "cell_type": "code",
   "execution_count": 170,
   "metadata": {
    "tags": []
   },
   "outputs": [],
   "source": [
    "def predict_fn(input_data, model):\n",
    "        \"\"\" Preprocess input data and make predictions.\n",
    "        Modify the predict_fn to use .transform() instead of .predict()\"\"\"\n",
    "        \n",
    "        features = model.transform(input_data)\n",
    "        \n",
    "        if \"churn\" in input_data:\n",
    "            return np.insert(features, 0, input_data[\"churn\"], axis=1)\n",
    "        else:\n",
    "            return features"
   ]
  },
  {
   "cell_type": "code",
   "execution_count": 171,
   "metadata": {
    "tags": []
   },
   "outputs": [],
   "source": [
    "def model_fn(model_dir='.'):\n",
    "        \"\"\" Deserialize fitted model from model_dir.\"\"\"\n",
    "        preprocessor = joblib.load(os.path.join(model_dir, \"model.joblib\"))\n",
    "        return preprocessor"
   ]
  },
  {
   "cell_type": "markdown",
   "metadata": {},
   "source": [
    "Simulate batch data transformation "
   ]
  },
  {
   "cell_type": "code",
   "execution_count": 172,
   "metadata": {
    "tags": []
   },
   "outputs": [
    {
     "name": "stdout",
     "output_type": "stream",
     "text": [
      "Input shape:  (800, 10)\n"
     ]
    },
    {
     "data": {
      "text/html": [
       "<div><style>\n",
       ".dataframe > thead > tr > th,\n",
       ".dataframe > tbody > tr > td {\n",
       "  text-align: right;\n",
       "}\n",
       "</style>\n",
       "<small>shape: (5, 13)</small><table border=\"1\" class=\"dataframe\"><thead><tr><th>column_0</th><th>column_1</th><th>column_2</th><th>column_3</th><th>column_4</th><th>column_5</th><th>column_6</th><th>column_7</th><th>column_8</th><th>column_9</th><th>column_10</th><th>column_11</th><th>column_12</th></tr><tr><td>f64</td><td>f64</td><td>f64</td><td>f64</td><td>f64</td><td>f64</td><td>f64</td><td>f64</td><td>f64</td><td>f64</td><td>f64</td><td>f64</td><td>f64</td></tr></thead><tbody><tr><td>1.102421</td><td>-0.416667</td><td>-0.2</td><td>0.0</td><td>0.0</td><td>0.0</td><td>-0.169827</td><td>-0.633851</td><td>1.0</td><td>0.0</td><td>0.0</td><td>1.0</td><td>0.0</td></tr><tr><td>0.841713</td><td>-0.75</td><td>-0.2</td><td>0.0</td><td>-1.0</td><td>0.0</td><td>-0.048301</td><td>-0.800779</td><td>0.0</td><td>1.0</td><td>0.0</td><td>1.0</td><td>0.0</td></tr><tr><td>1.303538</td><td>-0.75</td><td>0.6</td><td>0.0</td><td>0.0</td><td>-1.0</td><td>0.296641</td><td>-0.209319</td><td>0.0</td><td>0.0</td><td>1.0</td><td>0.0</td><td>1.0</td></tr><tr><td>1.080074</td><td>-0.083333</td><td>-0.8</td><td>1.0</td><td>0.0</td><td>0.0</td><td>-0.758196</td><td>0.606703</td><td>1.0</td><td>0.0</td><td>0.0</td><td>0.0</td><td>1.0</td></tr><tr><td>-0.312849</td><td>-0.25</td><td>-0.2</td><td>1.0</td><td>0.0</td><td>-1.0</td><td>-0.758196</td><td>0.728628</td><td>0.0</td><td>0.0</td><td>1.0</td><td>0.0</td><td>1.0</td></tr></tbody></table></div>"
      ],
      "text/plain": [
       "shape: (5, 13)\n",
       "┌───────────┬───────────┬──────────┬──────────┬───┬──────────┬───────────┬───────────┬───────────┐\n",
       "│ column_0  ┆ column_1  ┆ column_2 ┆ column_3 ┆ … ┆ column_9 ┆ column_10 ┆ column_11 ┆ column_12 │\n",
       "│ ---       ┆ ---       ┆ ---      ┆ ---      ┆   ┆ ---      ┆ ---       ┆ ---       ┆ ---       │\n",
       "│ f64       ┆ f64       ┆ f64      ┆ f64      ┆   ┆ f64      ┆ f64       ┆ f64       ┆ f64       │\n",
       "╞═══════════╪═══════════╪══════════╪══════════╪═══╪══════════╪═══════════╪═══════════╪═══════════╡\n",
       "│ 1.102421  ┆ -0.416667 ┆ -0.2     ┆ 0.0      ┆ … ┆ 0.0      ┆ 0.0       ┆ 1.0       ┆ 0.0       │\n",
       "│ 0.841713  ┆ -0.75     ┆ -0.2     ┆ 0.0      ┆ … ┆ 1.0      ┆ 0.0       ┆ 1.0       ┆ 0.0       │\n",
       "│ 1.303538  ┆ -0.75     ┆ 0.6      ┆ 0.0      ┆ … ┆ 0.0      ┆ 1.0       ┆ 0.0       ┆ 1.0       │\n",
       "│ 1.080074  ┆ -0.083333 ┆ -0.8     ┆ 1.0      ┆ … ┆ 0.0      ┆ 0.0       ┆ 0.0       ┆ 1.0       │\n",
       "│ -0.312849 ┆ -0.25     ┆ -0.2     ┆ 1.0      ┆ … ┆ 0.0      ┆ 1.0       ┆ 0.0       ┆ 1.0       │\n",
       "└───────────┴───────────┴──────────┴──────────┴───┴──────────┴───────────┴───────────┴───────────┘"
      ]
     },
     "execution_count": 172,
     "metadata": {},
     "output_type": "execute_result"
    }
   ],
   "source": [
    "input_data = pl.read_csv(\"s3://sagemaker-us-east-1-484401254725/scikit-churn-prediction/datasets/validation.csv\").select(pl.all().exclude(\"churn\")).to_pandas()\n",
    "print(\"Input shape: \", input_data.shape)\n",
    "pl.DataFrame(predict_fn(input_data, model_fn(model_dir='.'))).head()"
   ]
  },
  {
   "cell_type": "code",
   "execution_count": 17,
   "metadata": {
    "jupyter": {
     "source_hidden": true
    },
    "tags": []
   },
   "outputs": [],
   "source": [
    "path = 's3://sagemaker-us-east-1-484401254725/scikit-churn-prediction/datasets/test.csv'\n",
    "path2 = 's3://sagemaker-us-east-1-484401254725/scikit-churn-prediction/sklear-pipeline/transform/test.csv.out'"
   ]
  },
  {
   "cell_type": "code",
   "execution_count": 176,
   "metadata": {
    "tags": []
   },
   "outputs": [],
   "source": [
    "columns_name = [ 'churn',\n",
    "                 'credit_score',\n",
    "                 'country.A',\n",
    "                 'country.B',\n",
    "                 'country.C',\n",
    "                 'gender.A',\n",
    "                 'gender.B',\n",
    "                 'age',\n",
    "                 'tenure',\n",
    "                 'balance',\n",
    "                 'products_number',\n",
    "                 'credit_card',\n",
    "                 'active_member',\n",
    "                 'estimated_salary' ]"
   ]
  },
  {
   "cell_type": "code",
   "execution_count": 199,
   "metadata": {
    "tags": []
   },
   "outputs": [
    {
     "data": {
      "text/html": [
       "<div><style>\n",
       ".dataframe > thead > tr > th,\n",
       ".dataframe > tbody > tr > td {\n",
       "  text-align: right;\n",
       "}\n",
       "</style>\n",
       "<small>shape: (15, 13)</small><table border=\"1\" class=\"dataframe\"><thead><tr><th>credit_score</th><th>country.A</th><th>country.B</th><th>country.C</th><th>gender.A</th><th>gender.B</th><th>age</th><th>tenure</th><th>balance</th><th>products_number</th><th>credit_card</th><th>active_member</th><th>estimated_salary</th></tr><tr><td>f64</td><td>f64</td><td>f64</td><td>f64</td><td>f64</td><td>f64</td><td>f64</td><td>f64</td><td>f64</td><td>f64</td><td>f64</td><td>f64</td><td>f64</td></tr></thead><tbody><tr><td>-0.424581</td><td>-0.416667</td><td>-0.4</td><td>1.0</td><td>-1.0</td><td>-1.0</td><td>-0.001242</td><td>-0.594018</td><td>0.0</td><td>1.0</td><td>0.0</td><td>0.0</td><td>1.0</td></tr><tr><td>-0.223464</td><td>0.5</td><td>-0.8</td><td>1.0</td><td>0.0</td><td>0.0</td><td>-0.758196</td><td>0.477013</td><td>1.0</td><td>0.0</td><td>0.0</td><td>0.0</td><td>1.0</td></tr><tr><td>-0.387337</td><td>0.583333</td><td>-0.2</td><td>1.0</td><td>0.0</td><td>-1.0</td><td>-0.758196</td><td>-0.42226</td><td>0.0</td><td>0.0</td><td>1.0</td><td>1.0</td><td>0.0</td></tr><tr><td>-1.094972</td><td>1.833333</td><td>0.6</td><td>1.0</td><td>0.0</td><td>0.0</td><td>0.174422</td><td>0.725854</td><td>0.0</td><td>1.0</td><td>0.0</td><td>0.0</td><td>1.0</td></tr><tr><td>-0.692737</td><td>-0.833333</td><td>0.4</td><td>0.0</td><td>0.0</td><td>0.0</td><td>0.220163</td><td>0.152302</td><td>0.0</td><td>0.0</td><td>1.0</td><td>1.0</td><td>0.0</td></tr><tr><td>1.020484</td><td>0.0</td><td>0.6</td><td>1.0</td><td>0.0</td><td>0.0</td><td>-0.758196</td><td>0.508134</td><td>0.0</td><td>0.0</td><td>1.0</td><td>0.0</td><td>1.0</td></tr><tr><td>-1.594041</td><td>-0.416667</td><td>-0.4</td><td>0.0</td><td>0.0</td><td>-1.0</td><td>0.329004</td><td>-0.2469</td><td>0.0</td><td>0.0</td><td>1.0</td><td>1.0</td><td>0.0</td></tr><tr><td>-0.417132</td><td>-1.25</td><td>0.2</td><td>0.0</td><td>0.0</td><td>-1.0</td><td>0.036481</td><td>-0.299708</td><td>0.0</td><td>1.0</td><td>0.0</td><td>1.0</td><td>0.0</td></tr><tr><td>0.18622</td><td>0.25</td><td>-0.2</td><td>0.0</td><td>0.0</td><td>-1.0</td><td>0.132485</td><td>-0.851759</td><td>0.0</td><td>0.0</td><td>1.0</td><td>1.0</td><td>0.0</td></tr><tr><td>-1.407821</td><td>0.416667</td><td>-0.4</td><td>0.0</td><td>0.0</td><td>0.0</td><td>-0.087574</td><td>0.658525</td><td>0.0</td><td>1.0</td><td>0.0</td><td>1.0</td><td>0.0</td></tr><tr><td>-1.281192</td><td>1.666667</td><td>0.8</td><td>2.0</td><td>0.0</td><td>0.0</td><td>-0.758196</td><td>0.71602</td><td>1.0</td><td>0.0</td><td>0.0</td><td>1.0</td><td>0.0</td></tr><tr><td>-0.014898</td><td>1.583333</td><td>-0.2</td><td>0.0</td><td>-1.0</td><td>-1.0</td><td>-0.758196</td><td>-0.157838</td><td>1.0</td><td>0.0</td><td>0.0</td><td>1.0</td><td>0.0</td></tr><tr><td>1.467412</td><td>0.833333</td><td>0.2</td><td>0.0</td><td>0.0</td><td>-1.0</td><td>-0.758196</td><td>0.896981</td><td>1.0</td><td>0.0</td><td>0.0</td><td>0.0</td><td>1.0</td></tr><tr><td>0.253259</td><td>0.333333</td><td>-0.6</td><td>0.0</td><td>0.0</td><td>-1.0</td><td>0.447237</td><td>0.600192</td><td>0.0</td><td>1.0</td><td>0.0</td><td>1.0</td><td>0.0</td></tr><tr><td>0.320298</td><td>-1.5</td><td>-0.8</td><td>0.0</td><td>0.0</td><td>0.0</td><td>0.110055</td><td>-0.993608</td><td>1.0</td><td>0.0</td><td>0.0</td><td>0.0</td><td>1.0</td></tr></tbody></table></div>"
      ],
      "text/plain": [
       "shape: (15, 13)\n",
       "┌────────────┬─────────┬──────────┬─────────┬───┬────────────┬───────────┬────────────┬────────────┐\n",
       "│ credit_sco ┆ country ┆ country. ┆ country ┆ … ┆ products_n ┆ credit_ca ┆ active_mem ┆ estimated_ │\n",
       "│ re         ┆ .A      ┆ B        ┆ .C      ┆   ┆ umber      ┆ rd        ┆ ber        ┆ salary     │\n",
       "│ ---        ┆ ---     ┆ ---      ┆ ---     ┆   ┆ ---        ┆ ---       ┆ ---        ┆ ---        │\n",
       "│ f64        ┆ f64     ┆ f64      ┆ f64     ┆   ┆ f64        ┆ f64       ┆ f64        ┆ f64        │\n",
       "╞════════════╪═════════╪══════════╪═════════╪═══╪════════════╪═══════════╪════════════╪════════════╡\n",
       "│ -0.424581  ┆ -0.4166 ┆ -0.4     ┆ 1.0     ┆ … ┆ 1.0        ┆ 0.0       ┆ 0.0        ┆ 1.0        │\n",
       "│            ┆ 67      ┆          ┆         ┆   ┆            ┆           ┆            ┆            │\n",
       "│ -0.223464  ┆ 0.5     ┆ -0.8     ┆ 1.0     ┆ … ┆ 0.0        ┆ 0.0       ┆ 0.0        ┆ 1.0        │\n",
       "│ -0.387337  ┆ 0.58333 ┆ -0.2     ┆ 1.0     ┆ … ┆ 0.0        ┆ 1.0       ┆ 1.0        ┆ 0.0        │\n",
       "│            ┆ 3       ┆          ┆         ┆   ┆            ┆           ┆            ┆            │\n",
       "│ -1.094972  ┆ 1.83333 ┆ 0.6      ┆ 1.0     ┆ … ┆ 1.0        ┆ 0.0       ┆ 0.0        ┆ 1.0        │\n",
       "│            ┆ 3       ┆          ┆         ┆   ┆            ┆           ┆            ┆            │\n",
       "│ …          ┆ …       ┆ …        ┆ …       ┆ … ┆ …          ┆ …         ┆ …          ┆ …          │\n",
       "│ -0.014898  ┆ 1.58333 ┆ -0.2     ┆ 0.0     ┆ … ┆ 0.0        ┆ 0.0       ┆ 1.0        ┆ 0.0        │\n",
       "│            ┆ 3       ┆          ┆         ┆   ┆            ┆           ┆            ┆            │\n",
       "│ 1.467412   ┆ 0.83333 ┆ 0.2      ┆ 0.0     ┆ … ┆ 0.0        ┆ 0.0       ┆ 0.0        ┆ 1.0        │\n",
       "│            ┆ 3       ┆          ┆         ┆   ┆            ┆           ┆            ┆            │\n",
       "│ 0.253259   ┆ 0.33333 ┆ -0.6     ┆ 0.0     ┆ … ┆ 1.0        ┆ 0.0       ┆ 1.0        ┆ 0.0        │\n",
       "│            ┆ 3       ┆          ┆         ┆   ┆            ┆           ┆            ┆            │\n",
       "│ 0.320298   ┆ -1.5    ┆ -0.8     ┆ 0.0     ┆ … ┆ 0.0        ┆ 0.0       ┆ 0.0        ┆ 1.0        │\n",
       "└────────────┴─────────┴──────────┴─────────┴───┴────────────┴───────────┴────────────┴────────────┘"
      ]
     },
     "execution_count": 199,
     "metadata": {},
     "output_type": "execute_result"
    }
   ],
   "source": [
    "path = 's3://sagemaker-us-east-1-484401254725/scikit-churn-prediction/sklear-pipeline/transform/test.csv.out'\n",
    "df = pl.read_csv(path, has_header=False)\n",
    "df.columns = columns_name\n",
    "df = df.drop(\"churn\")\n",
    "df.head(15)"
   ]
  },
  {
   "cell_type": "markdown",
   "metadata": {},
   "source": [
    "### Read json in Models input_fn"
   ]
  },
  {
   "cell_type": "code",
   "execution_count": null,
   "metadata": {
    "tags": []
   },
   "outputs": [
    {
     "name": "stdout",
     "output_type": "stream",
     "text": [
      "shape: (14, 1)\n",
      "┌───────────┐\n",
      "│ column_0  │\n",
      "│ ---       │\n",
      "│ f64       │\n",
      "╞═══════════╡\n",
      "│ 0.0       │\n",
      "│ -0.223464 │\n",
      "│ 0.5       │\n",
      "│ -0.8      │\n",
      "│ …         │\n",
      "│ 0.0       │\n",
      "│ 0.0       │\n",
      "│ 0.0       │\n",
      "│ 1.0       │\n",
      "└───────────┘\n"
     ]
    }
   ],
   "source": [
    "import json\n",
    "\n",
    "json_data = '{\"instances\": [{\"features\": [0.0, -0.22346368715083798, 0.5, -0.8, 1.0, 0.0, 0.0, -0.758196039886628, 0.4770132292001497, 1.0, 0.0, 0.0, 0.0, 1.0]}]}'\n",
    "data = json.loads(json_data)\n",
    "df = pl.DataFrame(data['instances'])\n",
    "df = pl.DataFrame(df['features'].to_list(), orient=\"row\")\n",
    "\n",
    "print(df)\n"
   ]
  },
  {
   "cell_type": "code",
   "execution_count": 198,
   "metadata": {
    "tags": []
   },
   "outputs": [
    {
     "name": "stdout",
     "output_type": "stream",
     "text": [
      "<class 'list'>\n"
     ]
    }
   ],
   "source": [
    "sampInput = [[0.09178, 0.0, 4.05, 0.0, 0.51, 6.416, 84.1, 2.6463, 5.0, 296.0, 16.6, 395.5, 9.04]]\n",
    "print(type(sampInput))"
   ]
  },
  {
   "cell_type": "code",
   "execution_count": 211,
   "metadata": {
    "tags": []
   },
   "outputs": [
    {
     "data": {
      "text/html": [
       "<div><style>\n",
       ".dataframe > thead > tr > th,\n",
       ".dataframe > tbody > tr > td {\n",
       "  text-align: right;\n",
       "}\n",
       "</style>\n",
       "<small>shape: (2000, 13)</small><table border=\"1\" class=\"dataframe\"><thead><tr><th>credit_score</th><th>country.A</th><th>country.B</th><th>country.C</th><th>gender.A</th><th>gender.B</th><th>age</th><th>tenure</th><th>balance</th><th>products_number</th><th>credit_card</th><th>active_member</th><th>estimated_salary</th></tr><tr><td>f64</td><td>f64</td><td>f64</td><td>f64</td><td>f64</td><td>f64</td><td>f64</td><td>f64</td><td>f64</td><td>f64</td><td>f64</td><td>f64</td><td>f64</td></tr></thead><tbody><tr><td>-0.424581</td><td>-0.416667</td><td>-0.4</td><td>1.0</td><td>-1.0</td><td>-1.0</td><td>-0.001242</td><td>-0.594018</td><td>0.0</td><td>1.0</td><td>0.0</td><td>0.0</td><td>1.0</td></tr><tr><td>-0.223464</td><td>0.5</td><td>-0.8</td><td>1.0</td><td>0.0</td><td>0.0</td><td>-0.758196</td><td>0.477013</td><td>1.0</td><td>0.0</td><td>0.0</td><td>0.0</td><td>1.0</td></tr><tr><td>-0.387337</td><td>0.583333</td><td>-0.2</td><td>1.0</td><td>0.0</td><td>-1.0</td><td>-0.758196</td><td>-0.42226</td><td>0.0</td><td>0.0</td><td>1.0</td><td>1.0</td><td>0.0</td></tr><tr><td>-1.094972</td><td>1.833333</td><td>0.6</td><td>1.0</td><td>0.0</td><td>0.0</td><td>0.174422</td><td>0.725854</td><td>0.0</td><td>1.0</td><td>0.0</td><td>0.0</td><td>1.0</td></tr><tr><td>-0.692737</td><td>-0.833333</td><td>0.4</td><td>0.0</td><td>0.0</td><td>0.0</td><td>0.220163</td><td>0.152302</td><td>0.0</td><td>0.0</td><td>1.0</td><td>1.0</td><td>0.0</td></tr><tr><td>1.020484</td><td>0.0</td><td>0.6</td><td>1.0</td><td>0.0</td><td>0.0</td><td>-0.758196</td><td>0.508134</td><td>0.0</td><td>0.0</td><td>1.0</td><td>0.0</td><td>1.0</td></tr><tr><td>-1.594041</td><td>-0.416667</td><td>-0.4</td><td>0.0</td><td>0.0</td><td>-1.0</td><td>0.329004</td><td>-0.2469</td><td>0.0</td><td>0.0</td><td>1.0</td><td>1.0</td><td>0.0</td></tr><tr><td>-0.417132</td><td>-1.25</td><td>0.2</td><td>0.0</td><td>0.0</td><td>-1.0</td><td>0.036481</td><td>-0.299708</td><td>0.0</td><td>1.0</td><td>0.0</td><td>1.0</td><td>0.0</td></tr><tr><td>0.18622</td><td>0.25</td><td>-0.2</td><td>0.0</td><td>0.0</td><td>-1.0</td><td>0.132485</td><td>-0.851759</td><td>0.0</td><td>0.0</td><td>1.0</td><td>1.0</td><td>0.0</td></tr><tr><td>-1.407821</td><td>0.416667</td><td>-0.4</td><td>0.0</td><td>0.0</td><td>0.0</td><td>-0.087574</td><td>0.658525</td><td>0.0</td><td>1.0</td><td>0.0</td><td>1.0</td><td>0.0</td></tr><tr><td>-1.281192</td><td>1.666667</td><td>0.8</td><td>2.0</td><td>0.0</td><td>0.0</td><td>-0.758196</td><td>0.71602</td><td>1.0</td><td>0.0</td><td>0.0</td><td>1.0</td><td>0.0</td></tr><tr><td>-0.014898</td><td>1.583333</td><td>-0.2</td><td>0.0</td><td>-1.0</td><td>-1.0</td><td>-0.758196</td><td>-0.157838</td><td>1.0</td><td>0.0</td><td>0.0</td><td>1.0</td><td>0.0</td></tr><tr><td>&hellip;</td><td>&hellip;</td><td>&hellip;</td><td>&hellip;</td><td>&hellip;</td><td>&hellip;</td><td>&hellip;</td><td>&hellip;</td><td>&hellip;</td><td>&hellip;</td><td>&hellip;</td><td>&hellip;</td><td>&hellip;</td></tr><tr><td>1.467412</td><td>0.25</td><td>0.2</td><td>0.0</td><td>0.0</td><td>-1.0</td><td>0.218536</td><td>-0.350058</td><td>1.0</td><td>0.0</td><td>0.0</td><td>0.0</td><td>1.0</td></tr><tr><td>-0.819367</td><td>-0.166667</td><td>1.0</td><td>0.0</td><td>0.0</td><td>-1.0</td><td>-0.293197</td><td>-0.235763</td><td>0.0</td><td>0.0</td><td>1.0</td><td>0.0</td><td>1.0</td></tr><tr><td>0.253259</td><td>0.083333</td><td>0.8</td><td>0.0</td><td>0.0</td><td>0.0</td><td>0.201181</td><td>-0.657297</td><td>1.0</td><td>0.0</td><td>0.0</td><td>0.0</td><td>1.0</td></tr><tr><td>0.230912</td><td>-1.583333</td><td>0.8</td><td>0.0</td><td>-1.0</td><td>0.0</td><td>-0.049497</td><td>-0.973019</td><td>0.0</td><td>1.0</td><td>0.0</td><td>0.0</td><td>1.0</td></tr><tr><td>1.467412</td><td>2.833333</td><td>-0.2</td><td>1.0</td><td>0.0</td><td>0.0</td><td>-0.758196</td><td>0.076187</td><td>1.0</td><td>0.0</td><td>0.0</td><td>1.0</td><td>0.0</td></tr><tr><td>0.223464</td><td>0.5</td><td>-0.2</td><td>0.0</td><td>0.0</td><td>0.0</td><td>0.148874</td><td>0.179739</td><td>0.0</td><td>1.0</td><td>0.0</td><td>1.0</td><td>0.0</td></tr><tr><td>0.283054</td><td>0.583333</td><td>0.2</td><td>1.0</td><td>0.0</td><td>0.0</td><td>0.291156</td><td>1.00124</td><td>1.0</td><td>0.0</td><td>0.0</td><td>1.0</td><td>0.0</td></tr><tr><td>-0.379888</td><td>1.333333</td><td>0.0</td><td>0.0</td><td>-1.0</td><td>0.0</td><td>0.010966</td><td>-0.560738</td><td>0.0</td><td>1.0</td><td>0.0</td><td>1.0</td><td>0.0</td></tr><tr><td>-0.327747</td><td>-1.0</td><td>1.0</td><td>0.0</td><td>-1.0</td><td>0.0</td><td>-0.758196</td><td>0.103409</td><td>1.0</td><td>0.0</td><td>0.0</td><td>0.0</td><td>1.0</td></tr><tr><td>0.573557</td><td>0.833333</td><td>0.4</td><td>0.0</td><td>0.0</td><td>-1.0</td><td>-0.758196</td><td>-0.68019</td><td>1.0</td><td>0.0</td><td>0.0</td><td>1.0</td><td>0.0</td></tr><tr><td>0.290503</td><td>-0.666667</td><td>-0.2</td><td>0.0</td><td>0.0</td><td>-1.0</td><td>-0.758196</td><td>-0.235943</td><td>1.0</td><td>0.0</td><td>0.0</td><td>0.0</td><td>1.0</td></tr><tr><td>-0.18622</td><td>0.166667</td><td>-0.8</td><td>0.0</td><td>0.0</td><td>0.0</td><td>0.144594</td><td>0.080667</td><td>0.0</td><td>1.0</td><td>0.0</td><td>0.0</td><td>1.0</td></tr></tbody></table></div>"
      ],
      "text/plain": [
       "shape: (2_000, 13)\n",
       "┌────────────┬─────────┬──────────┬─────────┬───┬────────────┬───────────┬────────────┬────────────┐\n",
       "│ credit_sco ┆ country ┆ country. ┆ country ┆ … ┆ products_n ┆ credit_ca ┆ active_mem ┆ estimated_ │\n",
       "│ re         ┆ .A      ┆ B        ┆ .C      ┆   ┆ umber      ┆ rd        ┆ ber        ┆ salary     │\n",
       "│ ---        ┆ ---     ┆ ---      ┆ ---     ┆   ┆ ---        ┆ ---       ┆ ---        ┆ ---        │\n",
       "│ f64        ┆ f64     ┆ f64      ┆ f64     ┆   ┆ f64        ┆ f64       ┆ f64        ┆ f64        │\n",
       "╞════════════╪═════════╪══════════╪═════════╪═══╪════════════╪═══════════╪════════════╪════════════╡\n",
       "│ -0.424581  ┆ -0.4166 ┆ -0.4     ┆ 1.0     ┆ … ┆ 1.0        ┆ 0.0       ┆ 0.0        ┆ 1.0        │\n",
       "│            ┆ 67      ┆          ┆         ┆   ┆            ┆           ┆            ┆            │\n",
       "│ -0.223464  ┆ 0.5     ┆ -0.8     ┆ 1.0     ┆ … ┆ 0.0        ┆ 0.0       ┆ 0.0        ┆ 1.0        │\n",
       "│ -0.387337  ┆ 0.58333 ┆ -0.2     ┆ 1.0     ┆ … ┆ 0.0        ┆ 1.0       ┆ 1.0        ┆ 0.0        │\n",
       "│            ┆ 3       ┆          ┆         ┆   ┆            ┆           ┆            ┆            │\n",
       "│ -1.094972  ┆ 1.83333 ┆ 0.6      ┆ 1.0     ┆ … ┆ 1.0        ┆ 0.0       ┆ 0.0        ┆ 1.0        │\n",
       "│            ┆ 3       ┆          ┆         ┆   ┆            ┆           ┆            ┆            │\n",
       "│ …          ┆ …       ┆ …        ┆ …       ┆ … ┆ …          ┆ …         ┆ …          ┆ …          │\n",
       "│ -0.327747  ┆ -1.0    ┆ 1.0      ┆ 0.0     ┆ … ┆ 0.0        ┆ 0.0       ┆ 0.0        ┆ 1.0        │\n",
       "│ 0.573557   ┆ 0.83333 ┆ 0.4      ┆ 0.0     ┆ … ┆ 0.0        ┆ 0.0       ┆ 1.0        ┆ 0.0        │\n",
       "│            ┆ 3       ┆          ┆         ┆   ┆            ┆           ┆            ┆            │\n",
       "│ 0.290503   ┆ -0.6666 ┆ -0.2     ┆ 0.0     ┆ … ┆ 0.0        ┆ 0.0       ┆ 0.0        ┆ 1.0        │\n",
       "│            ┆ 67      ┆          ┆         ┆   ┆            ┆           ┆            ┆            │\n",
       "│ -0.18622   ┆ 0.16666 ┆ -0.8     ┆ 0.0     ┆ … ┆ 1.0        ┆ 0.0       ┆ 0.0        ┆ 1.0        │\n",
       "│            ┆ 7       ┆          ┆         ┆   ┆            ┆           ┆            ┆            │\n",
       "└────────────┴─────────┴──────────┴─────────┴───┴────────────┴───────────┴────────────┴────────────┘"
      ]
     },
     "execution_count": 211,
     "metadata": {},
     "output_type": "execute_result"
    }
   ],
   "source": [
    "df.select(pl.col(pl.Float64)).drop(\"age\").columns\n",
    "df"
   ]
  },
  {
   "cell_type": "code",
   "execution_count": null,
   "metadata": {},
   "outputs": [],
   "source": []
  }
 ],
 "metadata": {
  "availableInstances": [
   {
    "_defaultOrder": 0,
    "_isFastLaunch": true,
    "category": "General purpose",
    "gpuNum": 0,
    "hideHardwareSpecs": false,
    "memoryGiB": 4,
    "name": "ml.t3.medium",
    "vcpuNum": 2
   },
   {
    "_defaultOrder": 1,
    "_isFastLaunch": false,
    "category": "General purpose",
    "gpuNum": 0,
    "hideHardwareSpecs": false,
    "memoryGiB": 8,
    "name": "ml.t3.large",
    "vcpuNum": 2
   },
   {
    "_defaultOrder": 2,
    "_isFastLaunch": false,
    "category": "General purpose",
    "gpuNum": 0,
    "hideHardwareSpecs": false,
    "memoryGiB": 16,
    "name": "ml.t3.xlarge",
    "vcpuNum": 4
   },
   {
    "_defaultOrder": 3,
    "_isFastLaunch": false,
    "category": "General purpose",
    "gpuNum": 0,
    "hideHardwareSpecs": false,
    "memoryGiB": 32,
    "name": "ml.t3.2xlarge",
    "vcpuNum": 8
   },
   {
    "_defaultOrder": 4,
    "_isFastLaunch": true,
    "category": "General purpose",
    "gpuNum": 0,
    "hideHardwareSpecs": false,
    "memoryGiB": 8,
    "name": "ml.m5.large",
    "vcpuNum": 2
   },
   {
    "_defaultOrder": 5,
    "_isFastLaunch": false,
    "category": "General purpose",
    "gpuNum": 0,
    "hideHardwareSpecs": false,
    "memoryGiB": 16,
    "name": "ml.m5.xlarge",
    "vcpuNum": 4
   },
   {
    "_defaultOrder": 6,
    "_isFastLaunch": false,
    "category": "General purpose",
    "gpuNum": 0,
    "hideHardwareSpecs": false,
    "memoryGiB": 32,
    "name": "ml.m5.2xlarge",
    "vcpuNum": 8
   },
   {
    "_defaultOrder": 7,
    "_isFastLaunch": false,
    "category": "General purpose",
    "gpuNum": 0,
    "hideHardwareSpecs": false,
    "memoryGiB": 64,
    "name": "ml.m5.4xlarge",
    "vcpuNum": 16
   },
   {
    "_defaultOrder": 8,
    "_isFastLaunch": false,
    "category": "General purpose",
    "gpuNum": 0,
    "hideHardwareSpecs": false,
    "memoryGiB": 128,
    "name": "ml.m5.8xlarge",
    "vcpuNum": 32
   },
   {
    "_defaultOrder": 9,
    "_isFastLaunch": false,
    "category": "General purpose",
    "gpuNum": 0,
    "hideHardwareSpecs": false,
    "memoryGiB": 192,
    "name": "ml.m5.12xlarge",
    "vcpuNum": 48
   },
   {
    "_defaultOrder": 10,
    "_isFastLaunch": false,
    "category": "General purpose",
    "gpuNum": 0,
    "hideHardwareSpecs": false,
    "memoryGiB": 256,
    "name": "ml.m5.16xlarge",
    "vcpuNum": 64
   },
   {
    "_defaultOrder": 11,
    "_isFastLaunch": false,
    "category": "General purpose",
    "gpuNum": 0,
    "hideHardwareSpecs": false,
    "memoryGiB": 384,
    "name": "ml.m5.24xlarge",
    "vcpuNum": 96
   },
   {
    "_defaultOrder": 12,
    "_isFastLaunch": false,
    "category": "General purpose",
    "gpuNum": 0,
    "hideHardwareSpecs": false,
    "memoryGiB": 8,
    "name": "ml.m5d.large",
    "vcpuNum": 2
   },
   {
    "_defaultOrder": 13,
    "_isFastLaunch": false,
    "category": "General purpose",
    "gpuNum": 0,
    "hideHardwareSpecs": false,
    "memoryGiB": 16,
    "name": "ml.m5d.xlarge",
    "vcpuNum": 4
   },
   {
    "_defaultOrder": 14,
    "_isFastLaunch": false,
    "category": "General purpose",
    "gpuNum": 0,
    "hideHardwareSpecs": false,
    "memoryGiB": 32,
    "name": "ml.m5d.2xlarge",
    "vcpuNum": 8
   },
   {
    "_defaultOrder": 15,
    "_isFastLaunch": false,
    "category": "General purpose",
    "gpuNum": 0,
    "hideHardwareSpecs": false,
    "memoryGiB": 64,
    "name": "ml.m5d.4xlarge",
    "vcpuNum": 16
   },
   {
    "_defaultOrder": 16,
    "_isFastLaunch": false,
    "category": "General purpose",
    "gpuNum": 0,
    "hideHardwareSpecs": false,
    "memoryGiB": 128,
    "name": "ml.m5d.8xlarge",
    "vcpuNum": 32
   },
   {
    "_defaultOrder": 17,
    "_isFastLaunch": false,
    "category": "General purpose",
    "gpuNum": 0,
    "hideHardwareSpecs": false,
    "memoryGiB": 192,
    "name": "ml.m5d.12xlarge",
    "vcpuNum": 48
   },
   {
    "_defaultOrder": 18,
    "_isFastLaunch": false,
    "category": "General purpose",
    "gpuNum": 0,
    "hideHardwareSpecs": false,
    "memoryGiB": 256,
    "name": "ml.m5d.16xlarge",
    "vcpuNum": 64
   },
   {
    "_defaultOrder": 19,
    "_isFastLaunch": false,
    "category": "General purpose",
    "gpuNum": 0,
    "hideHardwareSpecs": false,
    "memoryGiB": 384,
    "name": "ml.m5d.24xlarge",
    "vcpuNum": 96
   },
   {
    "_defaultOrder": 20,
    "_isFastLaunch": false,
    "category": "General purpose",
    "gpuNum": 0,
    "hideHardwareSpecs": true,
    "memoryGiB": 0,
    "name": "ml.geospatial.interactive",
    "supportedImageNames": [
     "sagemaker-geospatial-v1-0"
    ],
    "vcpuNum": 0
   },
   {
    "_defaultOrder": 21,
    "_isFastLaunch": true,
    "category": "Compute optimized",
    "gpuNum": 0,
    "hideHardwareSpecs": false,
    "memoryGiB": 4,
    "name": "ml.c5.large",
    "vcpuNum": 2
   },
   {
    "_defaultOrder": 22,
    "_isFastLaunch": false,
    "category": "Compute optimized",
    "gpuNum": 0,
    "hideHardwareSpecs": false,
    "memoryGiB": 8,
    "name": "ml.c5.xlarge",
    "vcpuNum": 4
   },
   {
    "_defaultOrder": 23,
    "_isFastLaunch": false,
    "category": "Compute optimized",
    "gpuNum": 0,
    "hideHardwareSpecs": false,
    "memoryGiB": 16,
    "name": "ml.c5.2xlarge",
    "vcpuNum": 8
   },
   {
    "_defaultOrder": 24,
    "_isFastLaunch": false,
    "category": "Compute optimized",
    "gpuNum": 0,
    "hideHardwareSpecs": false,
    "memoryGiB": 32,
    "name": "ml.c5.4xlarge",
    "vcpuNum": 16
   },
   {
    "_defaultOrder": 25,
    "_isFastLaunch": false,
    "category": "Compute optimized",
    "gpuNum": 0,
    "hideHardwareSpecs": false,
    "memoryGiB": 72,
    "name": "ml.c5.9xlarge",
    "vcpuNum": 36
   },
   {
    "_defaultOrder": 26,
    "_isFastLaunch": false,
    "category": "Compute optimized",
    "gpuNum": 0,
    "hideHardwareSpecs": false,
    "memoryGiB": 96,
    "name": "ml.c5.12xlarge",
    "vcpuNum": 48
   },
   {
    "_defaultOrder": 27,
    "_isFastLaunch": false,
    "category": "Compute optimized",
    "gpuNum": 0,
    "hideHardwareSpecs": false,
    "memoryGiB": 144,
    "name": "ml.c5.18xlarge",
    "vcpuNum": 72
   },
   {
    "_defaultOrder": 28,
    "_isFastLaunch": false,
    "category": "Compute optimized",
    "gpuNum": 0,
    "hideHardwareSpecs": false,
    "memoryGiB": 192,
    "name": "ml.c5.24xlarge",
    "vcpuNum": 96
   },
   {
    "_defaultOrder": 29,
    "_isFastLaunch": true,
    "category": "Accelerated computing",
    "gpuNum": 1,
    "hideHardwareSpecs": false,
    "memoryGiB": 16,
    "name": "ml.g4dn.xlarge",
    "vcpuNum": 4
   },
   {
    "_defaultOrder": 30,
    "_isFastLaunch": false,
    "category": "Accelerated computing",
    "gpuNum": 1,
    "hideHardwareSpecs": false,
    "memoryGiB": 32,
    "name": "ml.g4dn.2xlarge",
    "vcpuNum": 8
   },
   {
    "_defaultOrder": 31,
    "_isFastLaunch": false,
    "category": "Accelerated computing",
    "gpuNum": 1,
    "hideHardwareSpecs": false,
    "memoryGiB": 64,
    "name": "ml.g4dn.4xlarge",
    "vcpuNum": 16
   },
   {
    "_defaultOrder": 32,
    "_isFastLaunch": false,
    "category": "Accelerated computing",
    "gpuNum": 1,
    "hideHardwareSpecs": false,
    "memoryGiB": 128,
    "name": "ml.g4dn.8xlarge",
    "vcpuNum": 32
   },
   {
    "_defaultOrder": 33,
    "_isFastLaunch": false,
    "category": "Accelerated computing",
    "gpuNum": 4,
    "hideHardwareSpecs": false,
    "memoryGiB": 192,
    "name": "ml.g4dn.12xlarge",
    "vcpuNum": 48
   },
   {
    "_defaultOrder": 34,
    "_isFastLaunch": false,
    "category": "Accelerated computing",
    "gpuNum": 1,
    "hideHardwareSpecs": false,
    "memoryGiB": 256,
    "name": "ml.g4dn.16xlarge",
    "vcpuNum": 64
   },
   {
    "_defaultOrder": 35,
    "_isFastLaunch": false,
    "category": "Accelerated computing",
    "gpuNum": 1,
    "hideHardwareSpecs": false,
    "memoryGiB": 61,
    "name": "ml.p3.2xlarge",
    "vcpuNum": 8
   },
   {
    "_defaultOrder": 36,
    "_isFastLaunch": false,
    "category": "Accelerated computing",
    "gpuNum": 4,
    "hideHardwareSpecs": false,
    "memoryGiB": 244,
    "name": "ml.p3.8xlarge",
    "vcpuNum": 32
   },
   {
    "_defaultOrder": 37,
    "_isFastLaunch": false,
    "category": "Accelerated computing",
    "gpuNum": 8,
    "hideHardwareSpecs": false,
    "memoryGiB": 488,
    "name": "ml.p3.16xlarge",
    "vcpuNum": 64
   },
   {
    "_defaultOrder": 38,
    "_isFastLaunch": false,
    "category": "Accelerated computing",
    "gpuNum": 8,
    "hideHardwareSpecs": false,
    "memoryGiB": 768,
    "name": "ml.p3dn.24xlarge",
    "vcpuNum": 96
   },
   {
    "_defaultOrder": 39,
    "_isFastLaunch": false,
    "category": "Memory Optimized",
    "gpuNum": 0,
    "hideHardwareSpecs": false,
    "memoryGiB": 16,
    "name": "ml.r5.large",
    "vcpuNum": 2
   },
   {
    "_defaultOrder": 40,
    "_isFastLaunch": false,
    "category": "Memory Optimized",
    "gpuNum": 0,
    "hideHardwareSpecs": false,
    "memoryGiB": 32,
    "name": "ml.r5.xlarge",
    "vcpuNum": 4
   },
   {
    "_defaultOrder": 41,
    "_isFastLaunch": false,
    "category": "Memory Optimized",
    "gpuNum": 0,
    "hideHardwareSpecs": false,
    "memoryGiB": 64,
    "name": "ml.r5.2xlarge",
    "vcpuNum": 8
   },
   {
    "_defaultOrder": 42,
    "_isFastLaunch": false,
    "category": "Memory Optimized",
    "gpuNum": 0,
    "hideHardwareSpecs": false,
    "memoryGiB": 128,
    "name": "ml.r5.4xlarge",
    "vcpuNum": 16
   },
   {
    "_defaultOrder": 43,
    "_isFastLaunch": false,
    "category": "Memory Optimized",
    "gpuNum": 0,
    "hideHardwareSpecs": false,
    "memoryGiB": 256,
    "name": "ml.r5.8xlarge",
    "vcpuNum": 32
   },
   {
    "_defaultOrder": 44,
    "_isFastLaunch": false,
    "category": "Memory Optimized",
    "gpuNum": 0,
    "hideHardwareSpecs": false,
    "memoryGiB": 384,
    "name": "ml.r5.12xlarge",
    "vcpuNum": 48
   },
   {
    "_defaultOrder": 45,
    "_isFastLaunch": false,
    "category": "Memory Optimized",
    "gpuNum": 0,
    "hideHardwareSpecs": false,
    "memoryGiB": 512,
    "name": "ml.r5.16xlarge",
    "vcpuNum": 64
   },
   {
    "_defaultOrder": 46,
    "_isFastLaunch": false,
    "category": "Memory Optimized",
    "gpuNum": 0,
    "hideHardwareSpecs": false,
    "memoryGiB": 768,
    "name": "ml.r5.24xlarge",
    "vcpuNum": 96
   },
   {
    "_defaultOrder": 47,
    "_isFastLaunch": false,
    "category": "Accelerated computing",
    "gpuNum": 1,
    "hideHardwareSpecs": false,
    "memoryGiB": 16,
    "name": "ml.g5.xlarge",
    "vcpuNum": 4
   },
   {
    "_defaultOrder": 48,
    "_isFastLaunch": false,
    "category": "Accelerated computing",
    "gpuNum": 1,
    "hideHardwareSpecs": false,
    "memoryGiB": 32,
    "name": "ml.g5.2xlarge",
    "vcpuNum": 8
   },
   {
    "_defaultOrder": 49,
    "_isFastLaunch": false,
    "category": "Accelerated computing",
    "gpuNum": 1,
    "hideHardwareSpecs": false,
    "memoryGiB": 64,
    "name": "ml.g5.4xlarge",
    "vcpuNum": 16
   },
   {
    "_defaultOrder": 50,
    "_isFastLaunch": false,
    "category": "Accelerated computing",
    "gpuNum": 1,
    "hideHardwareSpecs": false,
    "memoryGiB": 128,
    "name": "ml.g5.8xlarge",
    "vcpuNum": 32
   },
   {
    "_defaultOrder": 51,
    "_isFastLaunch": false,
    "category": "Accelerated computing",
    "gpuNum": 1,
    "hideHardwareSpecs": false,
    "memoryGiB": 256,
    "name": "ml.g5.16xlarge",
    "vcpuNum": 64
   },
   {
    "_defaultOrder": 52,
    "_isFastLaunch": false,
    "category": "Accelerated computing",
    "gpuNum": 4,
    "hideHardwareSpecs": false,
    "memoryGiB": 192,
    "name": "ml.g5.12xlarge",
    "vcpuNum": 48
   },
   {
    "_defaultOrder": 53,
    "_isFastLaunch": false,
    "category": "Accelerated computing",
    "gpuNum": 4,
    "hideHardwareSpecs": false,
    "memoryGiB": 384,
    "name": "ml.g5.24xlarge",
    "vcpuNum": 96
   },
   {
    "_defaultOrder": 54,
    "_isFastLaunch": false,
    "category": "Accelerated computing",
    "gpuNum": 8,
    "hideHardwareSpecs": false,
    "memoryGiB": 768,
    "name": "ml.g5.48xlarge",
    "vcpuNum": 192
   }
  ],
  "celltoolbar": "Tags",
  "kernelspec": {
   "display_name": "Python 3 (Data Science 3.0)",
   "language": "python",
   "name": "python3__SAGEMAKER_INTERNAL__arn:aws:sagemaker:us-east-1:081325390199:image/sagemaker-data-science-310-v1"
  },
  "language_info": {
   "codemirror_mode": {
    "name": "ipython",
    "version": 3
   },
   "file_extension": ".py",
   "mimetype": "text/x-python",
   "name": "python",
   "nbconvert_exporter": "python",
   "pygments_lexer": "ipython3",
   "version": "3.10.6"
  }
 },
 "nbformat": 4,
 "nbformat_minor": 4
}
